{
 "cells": [
  {
   "cell_type": "code",
   "execution_count": 5,
   "source": [
    "import pandas as pd\n",
    "import matplotlib.pyplot as plt\n",
    "import cleanData as cd\n",
    "import tensorflow as tf\n",
    "import numpy as np"
   ],
   "outputs": [],
   "metadata": {}
  },
  {
   "cell_type": "code",
   "execution_count": 6,
   "source": [
    "df = cd.cleanDF()"
   ],
   "outputs": [],
   "metadata": {}
  },
  {
   "cell_type": "code",
   "execution_count": 7,
   "source": [
    "print(df)"
   ],
   "outputs": [
    {
     "output_type": "stream",
     "name": "stdout",
     "text": [
      "            Date       Open       High        Low      Close\n",
      "0    May-20-2020   0.254640   0.270376   0.232757   0.243026\n",
      "1    May-21-2020   0.244108   0.253034   0.224571   0.224949\n",
      "2    May-22-2020   0.227569   0.265449   0.224805   0.236512\n",
      "3    May-23-2020   0.258715   0.265027   0.230073   0.261774\n",
      "4    May-24-2020   0.256682   0.264516   0.224644   0.225019\n",
      "..           ...        ...        ...        ...        ...\n",
      "469  Sep-01-2021  24.787900  24.787900  22.553600  23.287300\n",
      "470  Sep-02-2021  23.327155  23.641600  22.648000  22.781000\n",
      "471  Sep-03-2021  22.752600  23.755900  22.424800  22.924700\n",
      "472  Sep-04-2021  22.934421  24.087800  22.870300  23.103800\n",
      "473  Sep-05-2021  23.056800  24.062100  22.696700  23.726100\n",
      "\n",
      "[474 rows x 5 columns]\n"
     ]
    }
   ],
   "metadata": {}
  },
  {
   "cell_type": "code",
   "execution_count": null,
   "source": [],
   "outputs": [],
   "metadata": {}
  }
 ],
 "metadata": {
  "orig_nbformat": 4,
  "language_info": {
   "name": "python",
   "version": "3.8.8",
   "mimetype": "text/x-python",
   "codemirror_mode": {
    "name": "ipython",
    "version": 3
   },
   "pygments_lexer": "ipython3",
   "nbconvert_exporter": "python",
   "file_extension": ".py"
  },
  "kernelspec": {
   "name": "python3",
   "display_name": "Python 3.8.8 64-bit ('python3.8': conda)"
  },
  "interpreter": {
   "hash": "39e3e36d2cf5eca27e15daa54fe0ee6a5c9dc98f676d776f3af0e10d3852cb55"
  }
 },
 "nbformat": 4,
 "nbformat_minor": 2
}